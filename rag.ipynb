{
 "cells": [
  {
   "cell_type": "code",
   "execution_count": 1,
   "id": "a640051c",
   "metadata": {},
   "outputs": [
    {
     "name": "stderr",
     "output_type": "stream",
     "text": [
      "USER_AGENT environment variable not set, consider setting it to identify your requests.\n"
     ]
    }
   ],
   "source": [
    "from langchain_google_genai import ChatGoogleGenerativeAI\n",
    "from langchain_core.prompts import PromptTemplate\n",
    "from langchain_core.output_parsers import StrOutputParser\n",
    "from langchain_core.runnables import RunnableSequence\n",
    "from langchain_core.prompts import ChatPromptTemplate\n",
    "from langchain_core.messages import HumanMessage, SystemMessage, AIMessage\n",
    "from langchain_community.document_loaders import WebBaseLoader\n",
    "from langchain_text_splitters import RecursiveCharacterTextSplitter\n",
    "from langchain_google_genai import GoogleGenerativeAIEmbeddings\n",
    "from langchain_chroma import Chroma\n",
    "from dotenv import load_dotenv\n",
    "import os"
   ]
  },
  {
   "cell_type": "code",
   "execution_count": 2,
   "id": "bc242d49",
   "metadata": {},
   "outputs": [
    {
     "data": {
      "text/plain": [
       "True"
      ]
     },
     "execution_count": 2,
     "metadata": {},
     "output_type": "execute_result"
    }
   ],
   "source": [
    "load_dotenv()"
   ]
  },
  {
   "cell_type": "code",
   "execution_count": 3,
   "id": "6a5cdf90",
   "metadata": {},
   "outputs": [],
   "source": [
    "GOOGLE_API_KEY = os.getenv('GOOGLE_API_KEY')"
   ]
  },
  {
   "cell_type": "code",
   "execution_count": 4,
   "id": "b9a71939",
   "metadata": {},
   "outputs": [],
   "source": [
    "llm = ChatGoogleGenerativeAI(model=\"gemini-2.0-flash\")"
   ]
  },
  {
   "cell_type": "code",
   "execution_count": 22,
   "id": "e8a4f11b",
   "metadata": {},
   "outputs": [
    {
     "name": "stdout",
     "output_type": "stream",
     "text": [
      "[Document(metadata={'source': 'https://www.amazon.in/s?k=asus+tuf+gaming+a15&crid=1J18RNBM5F3MB&sprefix=asus%2Caps%2C284&ref=nb_sb_ss_mvt-t11-ranker_1_4', 'title': 'Amazon.in : asus tuf gaming a15', 'language': 'en-in'}, page_content='\\n\\n\\n\\n\\n\\n\\n\\n\\n\\n\\n\\n\\n\\n\\n\\n\\n\\n\\n\\n\\n\\n\\n\\n\\n\\n\\n\\n\\n\\n\\n\\n\\n\\nAmazon.in : asus tuf gaming a15\\n\\n\\n\\n\\n\\n\\n\\n\\n\\n\\n\\n\\n\\n\\n\\n\\n\\n\\n\\n\\n\\n\\n\\n\\n\\n\\n\\n\\n\\n\\n\\n\\n\\n\\n\\n\\n\\n\\n\\n\\n\\n\\nSkip to\\n\\n\\n\\n        Main content\\n        \\n\\n\\n\\n        Results\\n        \\n\\n\\n\\n        Filters\\n        \\n\\n\\n\\n        Filters\\n        \\n\\n\\n\\n\\n      Keyboard shortcuts\\n  \\n\\n\\n\\n\\nSearch\\n\\nalt\\n+\\n/\\n\\n\\n\\n\\n\\n\\n\\nCart\\n\\nshift\\n+\\nalt\\n+\\nC\\n\\n\\n\\n\\n\\n\\n\\nHome\\n\\nshift\\n+\\nalt\\n+\\nH\\n\\n\\n\\n\\n\\n\\n\\nOrders\\n\\nshift\\n+\\nalt\\n+\\nO\\n\\n\\n\\n\\n\\n\\n\\nShow/Hide shortcuts\\n\\nshift\\n+\\nalt\\n+\\nZ\\n\\n\\n\\n\\n\\n\\n\\n\\n\\n\\nTo move between items, use your keyboard\\'s up or down arrows.\\n\\n\\n\\n\\n\\n\\n\\n\\n\\n\\n\\n\\n\\n\\n\\n.in\\n\\n\\n\\n\\n\\n\\n\\n\\n\\n                   Delivering to Agra 282005\\n                \\n\\n                   Update location\\n                \\n\\n\\n\\n\\n\\n\\n\\n\\n\\n\\n\\n\\n\\n\\n\\n\\n\\n\\n\\n\\nAll\\n\\n\\nSelect the department you want to search in\\n\\nAll Categories\\nAlexa Skills\\nAmazon Devices\\nAmazon Fashion\\nAmazon Fresh\\nAmazon Pharmacy\\nAppliances\\nApps & Games\\nAudible Audiobooks\\nBaby\\nBeauty\\nBooks\\nCar & Motorbike\\nClothing & Accessories\\nCollectibles\\nComputers & Accessories\\nDeals\\nElectronics\\nFurniture\\nGarden & Outdoors\\nGift Cards\\nGrocery & Gourmet Foods\\nHealth & Personal Care\\nHome & Kitchen\\nIndustrial & Scientific\\nJewellery\\nKindle Store\\nLuggage & Bags\\nLuxury Beauty\\nMovies & TV Shows\\nMP3 Music\\nMusic\\nMusical Instruments\\nOffice Products\\nPet Supplies\\nPrime Video\\nShoes & Handbags\\nSoftware\\nSports, Fitness & Outdoors\\nSubscribe & Save\\nTools & Home Improvement\\nToys & Games\\nUnder ₹500\\nVideo Games\\nWatches\\n\\n\\n\\n\\n\\n\\nSearch Amazon.in\\n\\n\\n\\n\\n\\n\\n\\n\\n\\n\\n\\n\\n\\n\\n\\n\\n\\n\\n\\n\\n\\n\\n\\n\\n\\nEN\\n\\n\\n\\n\\n\\n\\n\\nHello, sign in\\nAccount & Lists\\n  \\n\\n\\n\\n\\nReturns\\n& Orders\\n\\n\\n\\n0\\n\\n\\n\\n\\n\\n\\n        Cart\\n        \\n\\n\\n\\n\\n\\n\\n\\n\\n\\n\\n\\n\\n\\nAll\\n\\n\\n\\n\\n\\n\\n\\n\\n\\n\\n\\n\\n\\nFresh\\n\\n\\n\\n\\nMX Player\\n\\n\\n\\n\\nSell\\n\\n\\n\\n\\nBestsellers\\n\\n\\n\\n\\nToday\\'s Deals\\n\\n\\n\\n\\nMobiles\\n\\n\\n\\n\\nPrime\\n\\n\\n\\n\\n\\n\\nCustomer Service\\n\\n\\n\\n\\nNew Releases\\n\\n\\n\\n\\nFashion\\n\\n\\n\\n\\nAmazon Pay\\n\\n\\n\\n\\n Electronics \\n\\n\\n\\n\\nHome & Kitchen\\n\\n\\n\\n\\nComputers\\n\\n\\n\\n\\nBooks\\n\\n\\n\\n\\nCar & Motorbike\\n\\n\\n\\n\\nVideo Games\\n\\n\\n\\n\\nToys & Games\\n\\n\\n\\n\\nGrocery & Gourmet Foods\\n\\n\\n\\n\\nHome Improvement\\n\\n\\n\\n\\nBeauty & Personal Care\\n\\n\\n\\n\\nGift Cards\\n\\n\\n\\n\\nHealth, Household & Personal Care\\n\\n\\n\\n\\nSports, Fitness & Outdoors\\n\\n\\n\\n\\nCustom Products\\n\\n\\n\\n\\nBaby\\n\\n\\n\\n\\nPet Supplies\\n\\n\\n\\n\\nAmazonBasics\\n\\n\\n\\n\\nAudible\\n\\n\\n\\n\\nSubscribe & Save\\n\\n\\n\\n\\nGift Ideas\\t\\n\\n\\n\\n\\n\\n\\n\\n\\n\\n\\n\\n\\n\\n\\n\\n\\n\\n\\n\\n\\n\\n\\n\\n\\n\\n\\n\\n\\n\\n\\n\\n\\n\\n\\n\\n\\n\\n\\n\\n\\n\\n\\n\\n\\n\\n\\n\\n\\n\\n\\n\\n\\n\\n\\n\\n\\n\\n\\n\\n\\n\\n\\n\\n\\n\\n1-16 of 974 results for \"asus tuf gaming a15\"\\n\\n\\n\\n\\n\\n\\n\\n\\n\\n\\n\\n\\n\\n\\n\\n\\n\\nSort by:\\nFeatured\\nPrice: Low to High\\nPrice: High to Low\\nAvg. Customer Review\\nNewest Arrivals\\nBest Sellers\\nSort by:Featured\\nGo\\n\\n\\n\\n\\n\\n\\n\\n\\n\\n\\n\\n\\n\\n\\n\\n\\nBlend of performance, design and comfortShop LenovoShop now\\xa0Lenovo Smartchoice LOQ, Intel Core i5-12450HX, 12th Gen, RTX 3050-6GB, 16GB RAM, 512GB SSD, FHD 144Hz 300Nits, 15.6\"/39.6cm, Windows 11, MS Office 21, Grey, 2.4Kg, 83GS003UIN, Gaming Laptop4 out of 5 stars.\\xa0598Lenovo LOQ 2024, Intel Core i5-13450HX, 13th Gen, NVIDIA RTX 4050-6GB, 16GB RAM, 512GB SSD, FHD 144Hz, 15.6\"/39.6cm, Windows 11, MS Office 21, Grey, 2.4Kg, 83DV007GIN, 1Yr ADP Free Gaming Laptop4.1 out of 5 stars.\\xa0227Lenovo LOQ 2024 12Th Gen Intel Core I5-12450HX | NVIDIA RTX 3050 6GB (16GB RAM/512GB SSD/15.6\" (39.6Cm)/Windows 11/Office Home 2024/100% Srgb/3 Mon. Game Pass/Grey/2.4Kg), 83GS00LNIN Gaming Laptop4 out of 5 stars.\\xa0598Sponsored\\n\\n\\n\\n\\n\\n\\n\\n\\n\\n\\nResults\\n\\nCheck each product page for other buying options.\\n\\n\\n\\n\\n\\n\\n\\n\\n\\n\\n\\n\\n\\n\\nSponsoredSponsored You are seeing this ad based on the product’s relevance to your search query.Let us know  HP Victus, 13th Gen Intel Core i5-13420H, NVIDIA RTX 2050 Gaming Laptop(Upgradable 16GB DDR4, 512GB SSD),144Hz, IPS, 300 nits, 15.6\\'\\'/39.6cm,Win11, M365*,Office24, Mica Silver, 2.3kg, fa2703tx 3.3 out of 5 stars 13  100+ bought in past monthLimited time dealPrice, product page₹61,490₹61,490 M.R.P: ₹75,142M.R.P: ₹75,142₹75,142 (18% off)Save extra with No Cost EMI FREE delivery Fri, 4 Jul Add to cart\\n\\n\\n\\n\\n\\n\\nSponsoredSponsored You are seeing this ad based on the product’s relevance to your search query.Let us know  Dell 15 Thin & Light Laptop, Intel Core 13th Generation i5-1334U Processor, 16GB DDR4 & 512GB SSD, 15.6\" (39.62cm) FHD 120Hz 250 nits, Windows 11 + MSO\\'21 + 15 Month Mcafee, Carbon Black, 1.66kg 4.0 out of 5 stars 55  Price, product page₹52,990₹52,990 M.R.P: ₹70,761M.R.P: ₹70,761₹70,761 (25% off) FREE delivery Sat, 5 Jul Or fastest delivery Fri, 4 Jul Add to cart\\n\\n\\n\\nASUS TUF Gaming A15, AMD Ryzen 7 7435HS Gaming Laptop(NVIDIA RTX 3050-4GB/60W TGP/16GB RAM/512GB SSD/FHD/15.6\"/144Hz/RGB KB/48WHr/Windows 11//Graphite Black/2.30 Kg) FA506NCR-HN054W 3.9 out of 5 stars 325  200+ bought in past monthPrice, product page₹64,590₹64,590 M.R.P: ₹83,990M.R.P: ₹83,990₹83,990 (23% off)Save extra with No Cost EMI FREE delivery Fri, 4 Jul Add to cart\\nASUS TUF Gaming A15, 15.6\" (39.62cm) FHD 16:9 144Hz, AMD Ryzen 7 7435HS, Gaming Laptop (16 DDR5/512GB SSD/NVIDIA GeForce RTX 2050/Windows 11 Home/Graphite Black/2.30 Kg), FA506NFR-HN045W 3.9 out of 5 stars 325  100+ bought in past monthLimited time dealPrice, product page₹56,990₹56,990 M.R.P: ₹74,990M.R.P: ₹74,990₹74,990 (24% off)Save extra with No Cost EMI FREE delivery Fri, 4 Jul Add to cart\\nASUS TUF Gaming A15 AMD Ryzen 7 Octa Core 7435HS - (16 GB/512 GB SSD/Windows 11 Home/4 GB Graphics/NVIDIA GeForce RTX 2050) FA566NFR-HN259W Gaming Laptop (15.6 inch, Graphite Black, 2.30 Kg) 3.8 out of 5 stars 37  50+ bought in past monthLimited time dealPrice, product page₹56,990₹56,990 M.R.P: ₹80,990M.R.P: ₹80,990₹80,990 (30% off) FREE delivery Fri, 4 Jul Add to cartMore Buying Choices₹56,988(5 new offers)\\n\\n\\n\\n\\nMore results\\n\\n\\n\\n\\n\\n\\n\\nASUS TUF Gaming A15, AMD Ryzen 7 7435HS, NVIDIA GeForce RTX 3050, 16GB RAM, 1TB SSD, FHD 144Hz 250 nits, 15.6\", Windows 11, Black, 2.30KG, FA566NCR-HN117W Gaming Laptop 3.9 out of 5 stars 325  100+ bought in past monthPrice, product page₹68,990₹68,990 M.R.P: ₹85,990M.R.P: ₹85,990₹85,990 (20% off)FREE delivery as soon as Tue, 8 Jul, 9 am - 5 pm Add to cart\\nAmazon\\'s Choicefor \"asus tuf gaming a15\"ASUS TUF Gaming A15,AMD Ryzen 7 7435HS Gaming Laptop(NVIDIA RTX 4060-8GB/140W TGP/16GB RAM/512GB SSD/FHD/15.6\"/144Hz/Windows 11/M365 Basic (1Year)*/Office Home 2024/Mecha Gray/2.20 Kg)FA507NVR-LP204WS 4.4 out of 5 stars 45  50+ bought in past monthPrice, product page₹94,990₹94,990 M.R.P: ₹1,19,990M.R.P: ₹1,19,990₹1,19,990 (21% off)Save extra with No Cost EMI FREE delivery Fri, 4 Jul Add to cart\\nASUS TUF Gaming A15, AMD Ryzen 7 7435HS, 15.6\" FHD 16:9 144Hz 250 nits, Gaming Laptop (16GB RAM/512GB SSD/NVIDIA GeForce RTX 2050/Win 11 Home/48WHr Battery/Graphite Black/2.30Kg), FA566NFR-HN045WS 3.5 out of 5 stars 3  Price, product page₹57,590₹57,590 M.R.P: ₹82,990M.R.P: ₹82,990₹82,990 (31% off) FREE delivery Tue, 8 Jul Add to cart\\nASUS TUF Gaming A15, AMD Ryzen 7 7435HS, NVIDIA GeForce RTX 3050, 16GB RAM, 512GB SSD, FHD 144Hz 250 nits, 15.6\", Windows 11, MS Office, Black, 2.30KG, FA566NCR-HN254WS Gaming Laptop 3.9 out of 5 stars 325  Price, product page₹66,950₹66,950 M.R.P: ₹89,990M.R.P: ₹89,990₹89,990 (26% off)Save extra with No Cost EMI FREE delivery Fri, 4 Jul Add to cart\\nASUS TUF Gaming A15, AMD Ryzen 7 7435HS, 15.6-inch FHD 144Hz, Gaming Laptop (16GB/512GB SSD/NVIDIA GeForce RTX 4050/Windows 11/90WHr/Mecha Gray/2.2 Kg), FA507NUR-LP082W 4.0 out of 5 stars 64  Price, product page₹84,990₹84,990 M.R.P: ₹1,07,990M.R.P: ₹1,07,990₹1,07,990 (21% off)Save extra with No Cost EMI FREE delivery Fri, 4 Jul Add to cart\\n\\n\\n\\nSponsoredSponsored You are seeing this ad based on the product’s relevance to your search query.Let us know  Lenovo LOQ 2024 AMD Ryzen 5 7235HS 15.6\" (39.6cm) 144Hz 300Nits FHD IPS Gaming Laptop (12GB/512GB SSD/Win 11/NVIDIA RTX 3050 6GB Graphics/100% sRGB/Office 21/3 Mon. Game Pass/Grey/2.4Kg), 83JC0031IN 4.1 out of 5 stars 92  100+ bought in past monthPrice, product page₹63,974₹63,974 M.R.P: ₹87,990M.R.P: ₹87,990₹87,990 (27% off)Save extra with No Cost EMI FREE delivery Fri, 4 Jul Add to cart\\n\\n\\n\\n\\n\\n\\nSponsoredSponsored You are seeing this ad based on the product’s relevance to your search query.Let us know  Lenovo LOQ 2024, AMD Ryzen 7 7435HS, NVIDIA RTX 4060-8GB, 24GB RAM, 512GB SSD, 15.6\"/39.6cm, Windows 11, MS Office Home 2024, Grey, 2.4Kg, 83JC00EHIN, 100% sRGB, 3 Mon. Game Pass Gaming Laptop 4.2 out of 5 stars 77  100+ bought in past monthPrice, product page₹92,990₹92,990 M.R.P: ₹1,27,990M.R.P: ₹1,27,990₹1,27,990 (27% off)Save extra with No Cost EMI FREE delivery Fri, 4 Jul Add to cart+3 other colors/patterns\\n\\n\\n\\nASUS TUF Gaming A15, AMD Ryzen 7 7435HS, NVIDIA GeForce RTX 3050, 16GB RAM, 512GB SSD, FHD 144Hz 250 nits, 15.6\", Windows 11, Black, 2.30KG, FA566NCR-HN075W Gaming Laptop 3.8 out of 5 stars 37  Price, product page₹64,989₹64,989 M.R.P: ₹69,990M.R.P: ₹69,990₹69,990 (7% off) FREE delivery Tue, 8 Jul Add to cart\\nASUS TUF Gaming A15, 15.6\" FHD 16:9, 144Hz 250nits, AMD Ryzen 7 7435HS Processor, Gaming Laptop (16GB RAM/512GB SSD/RTX 4060/Win 11/Office Home/90WHr Battery/Mecha Gray/2.2 Kg),FA507NVR-LP104WS 4.4 out of 5 stars 45  Price, product page₹94,990₹94,990 M.R.P: ₹1,19,990M.R.P: ₹1,19,990₹1,19,990 (21% off)Save extra with No Cost EMIFREE delivery as soon as Sat, 5 Jul, 9 am - 5 pm Or fastest delivery Fri, 4 Jul Add to cart\\nASUS TUF Gaming F15, 15.6\" FHD 16:9, 144Hz 250nits, Intel Core i7-13620H 13th Gen, Gaming Laptop (16GB RAM/512GB SSD/RTX 4050/Windows 11/Office Home/90WHr Battery/Mecha Gray/2.2 Kg), FX507VU-LP210WS 3.8 out of 5 stars 10  Price, product page₹93,090₹93,090 M.R.P: ₹1,24,990M.R.P: ₹1,24,990₹1,24,990 (26% off)Save extra with No Cost EMI FREE delivery Fri, 4 Jul Add to cart\\nASUS TUF Gaming A15, 15.6\" (39.62Cm) FHD 144Hz, AMD Ryzen 7 8845HS, Gaming Laptop (16GB DDR5/512GB SSD/NVIDIA Geforce RTX 4060 /Windows 11/Office 2021/Mecha Gray/2.20 Kg), FA507UV-LP136WS 4.4 out of 5 stars 2  Price, product page₹1,12,790₹1,12,790 M.R.P: ₹2,03,990M.R.P: ₹2,03,990₹2,03,990 (45% off) FREE delivery Tue, 8 Jul Only 1 left in stock.Add to cart\\nASUS TUF Gaming A15, 15.6\" FHD (1920 x 1080) 16:9, AMD Ryzen 7 7435HS Mobile Processor, Gaming Laptop (16GB RAM/512GB SSD//Windows 11/Office Home/48WHr Battery/Graphite Black/2.3Kg), FA566NCR-HN054WS 3.5 out of 5 stars 3  Price, product page₹66,790₹66,790 M.R.P: ₹78,990M.R.P: ₹78,990₹78,990 (15% off)Save 1% with coupon FREE delivery Tue, 8 Jul Add to cart\\n(Refurbished) ASUS TUF Gaming A15,AMD Ryzen 7 7435HS Gaming Laptop(NVIDIA RTX 4060-8GB/140W TGP/16GB RAM/512GB SSD/FHD/15.6\"/144Hz/Windows 11/M365 Basic (1Year)*/Office Home 2024/Mecha Gray/2.20 Kg)FA507NVR-LP204WS Price, product page₹84,991₹84,991 New Price: ₹94,990New Price: ₹94,990₹94,990 (11% off) FREE delivery Sun, 13 Jul Only 1 left in stock.See options\\nASUS TUF Gaming A15, AMD Ryzen 9 8945H Gaming Laptop(NVIDIA RTX 4060-8GB/140W TGP/16GB RAM/1TB SSD/FHD/15.6\"/144Hz/RGB KB/90WHr/Windows 11/Office 2021/Mecha Gray/2.20 Kg) FA507UV-LP137WS 3.6 out of 5 stars 4  Price, product page₹1,29,990₹1,29,990 M.R.P: ₹1,61,990M.R.P: ₹1,61,990₹1,61,990 (20% off) FREE delivery Tue, 8 Jul Only 1 left in stock.Add to cart\\nASUS TUF Gaming A15, 15.6\" FHD (1920 x 1080), AMD Ryzen 7 7435HS, (16GB RAM/512GB SSD/RTX 3050/Windows 11/M365 Basic (1Year)*/Office Home 2024/Graphite Black/2.3 kg), FA506NCR-HN275WS Price, product page₹74,070₹74,070 M.R.P: ₹91,990M.R.P: ₹91,990₹91,990 (19% off) FREE delivery Fri, 4 Jul Add to cart\\n\\n\\n\\n\\nMore results\\n\\n\\n\\n\\n\\n\\n\\n\\n\\n\\nSponsoredSponsored You are seeing this ad based on the product’s relevance to your search query.Let us know  Thinkpad L480 90 Business Laptop,Core i5 8th Generation 14-inch Display, Black, 8GB Ram, 256GB SSD Price, product page₹21,990₹21,990 M.R.P: ₹89,990M.R.P: ₹89,990₹89,990 (76% off) FREE delivery Tue, 8 Jul Only 1 left in stock.Add to cart\\n\\n\\n\\n\\n\\n\\nSponsoredSponsored You are seeing this ad based on the product’s relevance to your search query.Let us know  Lenovo LOQ AMD Ryzen 5 7235HS | NVIDIA RTX 3050A 4GB (12GB RAM/512GB SSD/144Hz Refresh Rate/15.6\" (39.6cm)/Windows 11/Office Home 2024/3 Mon. Game Pass/Grey/2.4Kg), 83JC00HNIN AI Gaming Laptop 4.6 out of 5 stars 8  Price, product page₹62,990₹62,990 M.R.P: ₹83,990M.R.P: ₹83,990₹83,990 (25% off)Prime Savings 3%  Off on ICICI Credit CBCCCards FREE delivery Fri, 4 Jul Add to cart+3 other colors/patterns\\n\\n\\n\\n\\n\\n\\n\\nRelated searches\\n\\n\\n\\n\\n\\n\\n\\n\\n\\n\\n\\n\\n\\n\\n                                                        asus tuf gaming f15\\n                                                    \\n\\n\\n\\n\\n\\n\\n\\n\\n\\n\\n\\n\\n\\n\\n                                                            hp victus\\n                                                        \\n\\n\\n\\n\\n\\n\\n\\n\\n\\n\\n\\n\\n\\n\\n\\n\\n\\n\\n                                                        acer nitro 5\\n                                                    \\n\\n\\n\\n\\n\\n\\n\\n\\n\\n\\n\\n\\n\\n\\n                                                            asus vivobook 15\\n                                                        \\n\\n\\n\\n\\n\\n\\n\\n\\n\\n\\n\\n\\n\\n\\n\\n\\n\\n\\n                                                        lenovo ideapad gaming 3\\n                                                    \\n\\n\\n\\n\\n\\n\\n\\n\\n\\n\\n\\n\\n\\n\\n                                                            asus vivobook 16x\\n                                                        \\n\\n\\n\\n\\n\\n\\n\\n\\n\\n\\n\\n\\n\\nPrevious123...20Next\\n\\n\\n\\n\\n\\nNeed help?\\n\\nVisit the help section or contact us\\n\\n\\n\\n\\n\\n\\n\\n\\n\\n\\n\\n\\n\\n\\n\\n\\n\\n\\n\\n\\n\\n\\n\\n\\n\\n\\n\\n                Go back to filtering menu\\n            \\n\\n\\n\\n\\n\\n\\n                Skip to main search results\\n            \\n\\n\\n\\n\\n\\n\\n\\n\\n        No selected filters\\n      \\n\\n\\n\\n\\n                Filters\\n            \\n\\n\\n\\n\\n\\n\\n\\n\\n\\n\\n\\n\\nDelivery Day\\n\\n\\n\\n\\n\\n\\n\\nGet It in 2 Days\\n\\n\\n\\n\\n\\n\\n\\n\\nBrands\\n\\n\\n\\n\\n\\n\\n\\nASUS\\n\\n\\n\\n\\n\\n\\n\\nHP\\n\\n\\n\\n\\n\\n\\n\\nLenovo\\n\\n\\n\\n\\n\\n\\n\\nMSI\\n\\n\\n\\n\\n\\n\\n\\nacer\\n\\n\\n\\n\\n\\n\\n\\nDell\\n\\n\\n\\n\\n\\n\\n\\nSaco\\n\\n\\n\\n\\n\\n\\n\\n\\nProcessor Type\\n\\n\\n\\n\\n\\n\\n\\nIntel Core i5\\n\\n\\n\\n\\n\\n\\n\\nAMD Ryzen 7\\n\\n\\n\\n\\n\\n\\n\\nIntel Core i7\\n\\n\\n\\n\\n\\n\\n\\nAMD Ryzen 5\\n\\n\\n\\n\\n\\n\\n\\nAMD Ryzen 9\\n\\n\\n\\n\\n\\n\\n\\n\\nRAM Size\\n\\n\\n\\n\\n\\n\\n\\n32 GB\\n\\n\\n\\n\\n\\n\\n\\n16 GB\\n\\n\\n\\n\\n\\n\\n\\n8 GB\\n\\n\\n\\n\\n\\n\\n\\n\\nCPU Manufacturer\\n\\n\\n\\n\\n\\n\\n\\nAMD\\n\\n\\n\\n\\n\\n\\n\\nIntel\\n\\n\\n\\n\\n\\n\\n\\n\\nGraphics Processor\\n\\n\\n\\n\\n\\n\\n\\nNvidia GeForce Series\\n\\n\\n\\n\\n\\n\\n\\nNvidia GeForce RTX Series\\n\\n\\n\\n\\n\\n\\n\\nNvidia GeForce GT Series\\n\\n\\n\\n\\n\\n\\n\\nNvidia GeForce GTX Series\\n\\n\\n\\n\\n\\n\\n\\n\\nGraphics Coprocessor\\n\\n\\n\\n\\n\\n\\n\\nNVIDIA GeForce RTX 3050\\n\\n\\n\\n\\n\\n\\n\\nIntel Iris Xe Graphics\\n\\n\\n\\n\\n\\n\\n\\nNVIDIA GeForce RTX 2050\\n\\n\\n\\n\\n\\n\\n\\nNVIDIA GeForce GTX 1650\\n\\n\\n\\n\\n\\n\\n\\n\\n\\nPrice\\n\\n\\n\\n\\n\\n\\n\\n\\n\\n\\n\\n\\n\\n\\n₹225\\n\\n\\n–\\n\\n\\n₹246,300+\\n\\n\\n\\n\\n\\n\\n\\n\\n\\n\\n\\n\\n\\nGo\\n\\n\\n\\n\\n\\n\\n\\n\\nDeals & Discounts\\n\\n\\n\\n\\n\\n\\nAll Discounts\\n\\n\\n\\n\\n\\n\\nToday\\'s Deals\\n\\n\\n\\n\\n\\n\\n\\n\\nSpecific Uses\\n\\n\\n\\n\\n\\n\\n\\nGaming\\n\\n\\n\\n\\n\\n\\n\\nStudent\\n\\n\\n\\n\\n\\n\\n\\nDeveloper\\n\\n\\n\\n\\n\\n\\n\\nEntertainment\\n\\n\\n\\n\\n\\n\\n\\nBusiness\\n\\n\\n\\n\\n\\n\\n\\n\\nHDD Size\\n\\n\\n\\n\\n\\n\\nUp to 159 GB\\n\\n\\n\\n\\n\\n160 - 249 GB\\n\\n\\n\\n\\n\\n250 - 499 GB\\n\\n\\n\\n\\n\\n\\n500 - 999 GB\\n\\n\\n\\n\\n\\n\\n\\n1 TB & above\\n\\n\\n\\n\\n\\n\\n\\n\\nCustomer Review\\n\\n\\n\\n\\n\\n\\n\\n4 Stars\\n& Up\\n\\n\\n\\n\\n\\n\\n\\n\\n\\nGraphics Memory\\n\\n\\n\\n\\n\\n\\n\\n8 GB & Above\\n\\n\\n\\n\\n\\n\\n\\n6 to 7 GB\\n\\n\\n\\n\\n\\n\\n\\n4 to 5 GB\\n\\n\\n\\n\\n\\n\\n\\n\\nScreen Size\\n\\n\\n\\n\\n\\n\\n\\n13\" - 14\"\\n\\n\\n\\n\\n\\n\\n\\n15\" - 16\"\\n\\n\\n\\n\\n\\n\\n\\n\\nHard Drive Type\\n\\n\\n\\n\\n\\n\\n\\nSSD\\n\\n\\n\\n\\n\\n\\n\\n\\nRAM Technology\\n\\n\\n\\n\\n\\n\\n\\nDDR4\\n\\n\\n\\n\\n\\n\\n\\nDDR5\\n\\n\\n\\n\\n\\n\\n\\nLPDDR5\\n\\n\\n\\n\\n\\n\\n\\n\\nItem Condition\\n\\n\\n\\n\\n\\n\\nNew\\n\\n\\n\\n\\n\\n\\nRenewed\\n\\n\\n\\n\\n\\n\\n\\n\\nCategory\\n\\n\\n\\n\\n\\n\\nLaptops\\n\\n\\n\\n\\nTraditional Laptops\\n\\n\\n\\n\\n\\n\\n\\n\\nDisplay Refresh Rate\\n\\n\\n\\n\\n\\n\\n\\n121 Hz & Above\\n\\n\\n\\n\\n\\n\\n\\n90 to 120.9 Hz\\n\\n\\n\\n\\n\\n\\n\\n59 to 89.9 Hz\\n\\n\\n\\n\\n\\n\\n\\n\\nOperating System\\n\\n\\n\\n\\n\\n\\n\\nWindows 11 Home\\n\\n\\n\\n\\n\\n\\n\\n\\nDiscount\\n\\n\\n\\n\\n\\n\\n10% Off or more\\n\\n\\n\\n\\n\\n\\n25% Off or more\\n\\n\\n\\n\\n\\n\\n35% Off or more\\n\\n\\n\\n\\n\\n\\n50% Off or more\\n\\n\\n\\n\\n\\n\\n60% Off or more\\n\\n\\n\\n\\n\\n\\n70% Off or more\\n\\n\\n\\n\\n\\n\\n\\n\\nConnectivity\\n\\n\\n\\n\\n\\n\\n\\nBluetooth\\n\\n\\n\\n\\n\\n\\n\\nWi-Fi\\n\\n\\n\\n\\n\\n\\n\\nUSB\\n\\n\\n\\n\\n\\n\\n\\nEthernet\\n\\n\\n\\n\\n\\n\\n\\nHDMI\\n\\n\\n\\n\\n\\n\\n\\n\\nAvailability\\n\\n\\n\\n\\n\\n\\n\\nInclude Out of Stock\\n\\n\\n\\n\\n\\n\\n\\n\\nDisplay Type\\n\\n\\n\\n\\n\\n\\n\\nLCD\\n\\n\\n\\n\\n\\n\\n\\nLED\\n\\n\\n\\n\\n\\n\\n\\nOLED\\n\\n\\n\\n\\n\\n\\n\\n\\nProcessor Count\\n\\n\\n\\n\\n\\n\\n\\n16\\n\\n\\n\\n\\n\\n\\n\\n14\\n\\n\\n\\n\\n\\n\\n\\n12\\n\\n\\n\\n\\n\\n\\n\\n8\\n\\n\\n\\n\\n\\n\\n\\n6\\n\\n\\n\\n\\n\\n\\n\\n1\\n\\n\\n\\n\\n\\n\\n\\n\\nProcessor Speed\\n\\n\\n\\n\\n\\n\\n\\n1 to 1.59 GHz\\n\\n\\n\\n\\n\\n\\n1.60 to 1.79 GHz\\n\\n\\n\\n\\n\\n1.80 to 1.99 GHz\\n\\n\\n\\n\\n\\n\\n2.00 to 2.49 GHz\\n\\n\\n\\n\\n\\n\\n\\n2.50 to 2.99 GHz\\n\\n\\n\\n\\n\\n\\n\\n3.00 to 3.49 GHz\\n\\n\\n\\n\\n\\n\\n3.50 to 3.99 GHz\\n\\n\\n\\n\\n\\n\\n4.0 GHz & Above\\n\\n\\n\\n\\n\\n\\n\\n\\nWeight\\n\\n\\n\\n\\n\\n\\n\\nUp to 0.9 kg\\n\\n\\n\\n\\n\\n\\n\\n1.0 to 1.4 kg\\n\\n\\n\\n\\n\\n\\n\\n1.5 to 1.9 kg\\n\\n\\n\\n\\n\\n\\n\\n2.0 to 2.4 kg\\n\\n\\n\\n\\n\\n\\n\\n2.5 kg & above\\n\\n\\n\\n\\n\\n\\n\\n\\nSecurity Feature\\n\\n\\n\\n\\n\\n\\n\\nFingerprint Recognition\\n\\n\\n\\n\\n\\n\\n\\nFace Recognition\\n\\n\\n\\n\\n\\n\\n\\n\\nComputers & Accessories Brands\\n\\n\\n\\n\\n\\n\\n\\nTop Brands\\n\\n\\n\\n\\n\\n\\n\\n\\nBattery Life\\n\\n\\n\\n\\n\\n\\n\\n8 to 10h\\n\\n\\n\\n\\n\\n\\n\\n5 to 7h\\n\\n\\n\\n\\n\\n\\n\\nUp to 4h\\n\\n\\n\\n\\n\\n\\n\\n\\nDisplay Resolution\\n\\n\\n\\n\\n\\n\\n\\n1080p\\n\\n\\n\\n\\n\\n\\n\\n\\nFeatures\\n\\n\\n\\n\\n\\n\\n\\nBacklit Keyboard\\n\\n\\n\\n\\n\\n\\n\\nAnti Glare Coating\\n\\n\\n\\n\\n\\n\\n\\nLightweight\\n\\n\\n\\n\\n\\n\\n\\n\\nNotebook Computer Hardware Interface\\n\\n\\n\\n\\n\\n\\n\\nUSB\\n\\n\\n\\n\\n\\n\\n\\nBluetooth\\n\\n\\n\\n\\n\\n\\n\\n3.5mm Audio\\n\\n\\n\\n\\n\\n\\n\\nBluetooth 5\\n\\n\\n\\n\\n\\n\\n\\n\\nPay On Delivery\\n\\n\\n\\n\\n\\n\\n\\nEligible for Pay On Delivery\\n\\n\\n\\n\\n\\n\\n\\n\\nNew Arrivals\\n\\n\\n\\n\\n\\n\\nLast 30 days\\n\\n\\n\\n\\n\\n\\nLast 90 days\\n\\n\\n\\n\\n\\n\\n\\n\\nSeller\\n\\n\\n\\n\\n\\n\\n\\nRAMGANGA\\n\\n\\n\\n\\n\\n\\n\\nClicktech Retail Private Ltd\\n\\n\\n\\n\\n\\n\\n\\n\\n\\n\\n\\nTreat\\n\\n\\n\\n\\n\\n\\n\\nHybrid Store.\\n\\n\\n\\n\\n\\n\\n\\nsaco\\n\\n\\n\\n\\n\\n\\n\\nClicktech Business\\n\\n\\n\\n\\n\\n\\n\\nOAKY (Official Store)\\n\\n\\n\\n\\n\\nSee more\\n\\n\\n\\n\\n\\n\\n\\nRAM Type\\n\\n\\n\\n\\n\\n\\n\\nDDR4 SDRAM\\n\\n\\n\\n\\n\\n\\n\\nDDR5 RAM\\n\\n\\n\\n\\n\\n\\n\\nSODIMM\\n\\n\\n\\n\\n\\n\\n\\n\\nMemory Slots\\n\\n\\n\\n\\n\\n\\n\\n2\\n\\n\\n\\n\\n\\n\\n\\n\\nCell Composition\\n\\n\\n\\n\\n\\n\\n\\nLithium Ion\\n\\n\\n\\n\\n\\n\\n\\nLithium Polymer\\n\\n\\n\\n\\n\\n\\n\\n\\nAudio Output\\n\\n\\n\\n\\n\\n\\n\\nHeadphones\\n\\n\\n\\n\\n\\n\\n\\nSpeakers\\n\\n\\n\\n\\n\\n\\n\\n\\nHard Disk Interface\\n\\n\\n\\n\\n\\n\\n\\nSolid State\\n\\n\\n\\n\\n\\n\\n\\nPCIE x 4\\n\\n\\n\\n\\n\\n\\n\\n\\nMax Resolution\\n\\n\\n\\n\\n\\n\\n\\n1920 x 1080\\n\\n\\n\\n\\n\\n\\n\\n1920 x 1200\\n\\n\\n\\n\\n\\n\\n\\n2560 x 1440\\n\\n\\n\\n\\n\\n\\n\\n2560 x 1600\\n\\n\\n\\n\\n\\n\\n\\n2880 x 1800\\n\\n\\n\\n\\n\\n\\n\\n\\nGPU Manufacturer\\n\\n\\n\\n\\n\\n\\n\\nAMD\\n\\n\\n\\n\\n\\n\\n\\nIntel\\n\\n\\n\\n\\n\\n\\n\\nNVIDIA\\n\\n\\n\\n\\n\\n\\n\\nQualcomm\\n\\n\\n\\n\\n\\n\\n\\n\\nKeyboard Type\\n\\n\\n\\n\\n\\n\\n\\nBacklit\\n\\n\\n\\n\\n\\n\\n\\nChiclet\\n\\n\\n\\n\\n\\n\\n\\nErgonomic\\n\\n\\n\\n\\n\\n\\n\\nGaming\\n\\n\\n\\n\\n\\n\\n\\n\\nWi-Fi Generation\\n\\n\\n\\n\\n\\n\\n\\nWi-Fi 6\\n\\n\\n\\n\\n\\n\\n\\nWi-Fi 5\\n\\n\\n\\n\\n\\n\\n\\nWi-Fi 6E\\n\\n\\n\\n\\n\\n\\n\\nWi-Fi 7\\n\\n\\n\\n\\n\\n\\n\\n\\nInput\\n\\n\\n\\n\\n\\n\\n\\nTouch Pad\\n\\n\\n\\n\\n\\n\\n\\n\\n\\n\\n\\n\\n\\n\\n\\n\\n\\n\\n\\n\\n\\n\\n\\n\\n\\n\\n\\n\\n\\n\\n\\n\\n\\n\\n\\n\\n\\n\\n\\n\\n\\n\\n\\n\\n\\n\\n\\n\\n\\n\\n\\n\\n\\n\\n\\n\\n\\n\\n\\n\\n\\n\\n\\n\\n\\n\\n\\n\\n\\n\\n\\n\\n\\n\\n\\n\\n\\n\\n\\n\\n\\n\\n\\n\\n\\n\\n                    Your recently viewed items and featured recommendations      ›    View or edit your browsing history     After viewing product detail pages, look here to find an easy way to navigate back to pages you are interested in.         Your recently viewed items and featured recommendations      ›    View or edit your browsing history     After viewing product detail pages, look here to find an easy way to navigate back to pages you are interested in.        \\n\\n\\n\\n\\n    Back to top\\n  \\n\\n\\n\\n\\n\\nGet to Know Us\\n\\n\\nAbout Amazon\\n\\n\\nCareers\\n\\n\\nPress Releases\\n\\n\\nAmazon Science\\n\\n\\n\\n\\n\\nConnect with Us\\n\\n\\nFacebook\\n\\n\\nTwitter\\n\\n\\nInstagram\\n\\n\\n\\n\\n\\nMake Money with Us\\n\\n\\nSell on Amazon\\n\\n\\nSell under Amazon Accelerator\\n\\n\\nProtect and Build Your Brand\\n\\n\\nAmazon Global Selling\\n\\n\\nSupply to Amazon\\n\\n\\nBecome an Affiliate\\n\\n\\nFulfilment by Amazon\\n\\n\\nAdvertise Your Products\\n\\n\\nAmazon Pay on Merchants\\n\\n\\n\\n\\n\\nLet Us Help You\\n\\n\\nYour Account\\n\\n\\nReturns Centre\\n\\n\\nRecalls and Product Safety Alerts\\n\\n\\n100% Purchase Protection\\n\\n\\nAmazon App Download\\n\\n\\nHelp\\n\\n\\n\\n\\n\\n\\n\\n\\n\\n\\n\\n\\n\\n\\n\\n\\n\\n\\nEnglish\\n\\n\\n\\n\\n\\nIndia\\n\\n\\n\\n\\n\\n\\nAbeBooksBooks, art& collectibles\\nAmazon Web ServicesScalable CloudComputing Services\\nAudibleDownloadAudio Books\\nIMDbMovies, TV& Celebrities\\n\\nShopbopDesignerFashion Brands\\n\\t\\nAmazon BusinessEverything ForYour Business\\nPrime Now 2-Hour Deliveryon Everyday Items\\nAmazon Prime Music100 million songs, ad-freeOver 15 million podcast episodes \\n\\n\\n\\nConditions of Use & Sale Privacy Notice Interest-Based Ads © 1996-2025, Amazon.com, Inc. or its affiliates\\n\\n\\n\\n\\n\\n\\n\\n\\n\\n\\n\\n\\n\\n\\n\\n\\n\\n\\n\\n\\n\\n\\n\\n\\n\\n\\n')]\n"
     ]
    }
   ],
   "source": [
    "loader = WebBaseLoader(web_paths=['https://www.amazon.in/s?k=asus+tuf+gaming+a15&crid=1J18RNBM5F3MB&sprefix=asus%2Caps%2C284&ref=nb_sb_ss_mvt-t11-ranker_1_4'])\n",
    "docs = loader.load()\n",
    "print(docs)"
   ]
  },
  {
   "cell_type": "code",
   "execution_count": 23,
   "id": "fb839bd3",
   "metadata": {},
   "outputs": [
    {
     "data": {
      "text/plain": [
       "'\\n\\n\\n\\n\\n\\n\\n\\n\\n\\n\\n\\n\\n\\n\\n\\n\\n\\n\\n\\n\\n\\n\\n\\n\\n\\n\\n\\n\\n\\n\\n\\n\\n\\nAmazon.in : asus tuf gaming a15\\n\\n\\n\\n\\n\\n\\n\\n\\n\\n\\n\\n\\n\\n\\n\\n\\n\\n\\n\\n\\n\\n\\n\\n\\n\\n\\n\\n\\n\\n\\n\\n\\n\\n\\n\\n\\n\\n\\n\\n\\n\\n\\nSkip to\\n\\n\\n\\n        Main content\\n        \\n\\n\\n\\n        Results\\n        \\n\\n\\n\\n        Filters\\n        \\n\\n\\n\\n        Filters\\n        \\n\\n\\n\\n\\n      Keyboard shortcuts\\n  \\n\\n\\n\\n\\nSearch\\n\\nalt\\n+\\n/\\n\\n\\n\\n\\n\\n\\n\\nCart\\n\\nshift\\n+\\nalt\\n+\\nC\\n\\n\\n\\n\\n\\n\\n\\nHome\\n\\nshift\\n+\\nalt\\n+\\nH\\n\\n\\n\\n\\n\\n\\n\\nOrders\\n\\nshift\\n+\\nalt\\n+\\nO\\n\\n\\n\\n\\n\\n\\n\\nShow/Hide shortcuts\\n\\nshift\\n+\\nalt\\n+\\nZ\\n\\n\\n\\n\\n\\n\\n\\n\\n\\n\\nTo move between items, use your keyboard\\'s up or down arrows.\\n\\n\\n\\n\\n\\n\\n\\n\\n\\n\\n\\n\\n\\n\\n\\n.in\\n\\n\\n\\n\\n\\n\\n\\n\\n\\n                   Delivering to Agra 282005\\n                \\n\\n                   Update location\\n                \\n\\n\\n\\n\\n\\n\\n\\n\\n\\n\\n\\n\\n\\n\\n\\n\\n\\n\\n\\n\\nAll\\n\\n\\nSelect the department you want to search in\\n\\nAll Categories\\nAlexa Skills\\nAmazon Devices\\nAmazon Fashion\\nAmazon Fresh\\nAmazon Pharmacy\\nAppliances\\nApps & Games\\nAudible Audiobooks\\nBaby\\nBeauty\\nBooks\\nCar & Motorbike\\nClothing & Accessories\\nCollectibles\\nComputers & Accessories\\nDeals\\nElectronics\\nFurniture\\nGarden & Outdoors\\nGift Cards\\nGrocery & Gourmet Foods\\nHealth & Personal Care\\nHome & Kitchen\\nIndustrial & Scientific\\nJewellery\\nKindle Store\\nLuggage & Bags\\nLuxury Beauty\\nMovies & TV Shows\\nMP3 Music\\nMusic\\nMusical Instruments\\nOffice Products\\nPet Supplies\\nPrime Video\\nShoes & Handbags\\nSoftware\\nSports, Fitness & Outdoors\\nSubscribe & Save\\nTools & Home Improvement\\nToys & Games\\nUnder ₹500\\nVideo Games\\nWatches\\n\\n\\n\\n\\n\\n\\nSearch Amazon.in\\n\\n\\n\\n\\n\\n\\n\\n\\n\\n\\n\\n\\n\\n\\n\\n\\n\\n\\n\\n\\n\\n\\n\\n\\n\\nEN\\n\\n\\n\\n\\n\\n\\n\\nHello, sign in\\nAccount & Lists\\n  \\n\\n\\n\\n\\nReturns\\n& Orders\\n\\n\\n\\n0\\n\\n\\n\\n\\n\\n\\n        Cart\\n        \\n\\n\\n\\n\\n\\n\\n\\n\\n\\n\\n\\n\\n\\nAll\\n\\n\\n\\n\\n\\n\\n\\n\\n\\n\\n\\n\\n\\nFresh\\n\\n\\n\\n\\nMX Player\\n\\n\\n\\n\\nSell\\n\\n\\n\\n\\nBestsellers\\n\\n\\n\\n\\nToday\\'s Deals\\n\\n\\n\\n\\nMobiles\\n\\n\\n\\n\\nPrime\\n\\n\\n\\n\\n\\n\\nCustomer Service\\n\\n\\n\\n\\nNew Releases\\n\\n\\n\\n\\nFashion\\n\\n\\n\\n\\nAmazon Pay\\n\\n\\n\\n\\n Electronics \\n\\n\\n\\n\\nHome & Kitchen\\n\\n\\n\\n\\nComputers\\n\\n\\n\\n\\nBooks\\n\\n\\n\\n\\nCar & Motorbike\\n\\n\\n\\n\\nVideo Games\\n\\n\\n\\n\\nToys & Games\\n\\n\\n\\n\\nGrocery & Gourmet Foods\\n\\n\\n\\n\\nHome Improvement\\n\\n\\n\\n\\nBeauty & Personal Care\\n\\n\\n\\n\\nGift Cards\\n\\n\\n\\n\\nHealth, Household & Personal Care\\n\\n\\n\\n\\nSports, Fitness & Outdoors\\n\\n\\n\\n\\nCustom Products\\n\\n\\n\\n\\nBaby\\n\\n\\n\\n\\nPet Supplies\\n\\n\\n\\n\\nAmazonBasics\\n\\n\\n\\n\\nAudible\\n\\n\\n\\n\\nSubscribe & Save\\n\\n\\n\\n\\nGift Ideas\\t\\n\\n\\n\\n\\n\\n\\n\\n\\n\\n\\n\\n\\n\\n\\n\\n\\n\\n\\n\\n\\n\\n\\n\\n\\n\\n\\n\\n\\n\\n\\n\\n\\n\\n\\n\\n\\n\\n\\n\\n\\n\\n\\n\\n\\n\\n\\n\\n\\n\\n\\n\\n\\n\\n\\n\\n\\n\\n\\n\\n\\n\\n\\n\\n\\n\\n1-16 of 974 results for \"asus tuf gaming a15\"\\n\\n\\n\\n\\n\\n\\n\\n\\n\\n\\n\\n\\n\\n\\n\\n\\n\\nSort by:\\nFeatured\\nPrice: Low to High\\nPrice: High to Low\\nAvg. Customer Review\\nNewest Arrivals\\nBest Sellers\\nSort by:Featured\\nGo\\n\\n\\n\\n\\n\\n\\n\\n\\n\\n\\n\\n\\n\\n\\n\\n\\nBlend of performance, design and comfortShop LenovoShop now\\xa0Lenovo Smartchoice LOQ, Intel Core i5-12450HX, 12th Gen, RTX 3050-6GB, 16GB RAM, 512GB SSD, FHD 144Hz 300Nits, 15.6\"/39.6cm, Windows 11, MS Office 21, Grey, 2.4Kg, 83GS003UIN, Gaming Laptop4 out of 5 stars.\\xa0598Lenovo LOQ 2024, Intel Core i5-13450HX, 13th Gen, NVIDIA RTX 4050-6GB, 16GB RAM, 512GB SSD, FHD 144Hz, 15.6\"/39.6cm, Windows 11, MS Office 21, Grey, 2.4Kg, 83DV007GIN, 1Yr ADP Free Gaming Laptop4.1 out of 5 stars.\\xa0227Lenovo LOQ 2024 12Th Gen Intel Core I5-12450HX | NVIDIA RTX 3050 6GB (16GB RAM/512GB SSD/15.6\" (39.6Cm)/Windows 11/Office Home 2024/100% Srgb/3 Mon. Game Pass/Grey/2.4Kg), 83GS00LNIN Gaming Laptop4 out of 5 stars.\\xa0598Sponsored\\n\\n\\n\\n\\n\\n\\n\\n\\n\\n\\nResults\\n\\nCheck each product page for other buying options.\\n\\n\\n\\n\\n\\n\\n\\n\\n\\n\\n\\n\\n\\n\\nSponsoredSponsored You are seeing this ad based on the product’s relevance to your search query.Let us know  HP Victus, 13th Gen Intel Core i5-13420H, NVIDIA RTX 2050 Gaming Laptop(Upgradable 16GB DDR4, 512GB SSD),144Hz, IPS, 300 nits, 15.6\\'\\'/39.6cm,Win11, M365*,Office24, Mica Silver, 2.3kg, fa2703tx 3.3 out of 5 stars 13  100+ bought in past monthLimited time dealPrice, product page₹61,490₹61,490 M.R.P: ₹75,142M.R.P: ₹75,142₹75,142 (18% off)Save extra with No Cost EMI FREE delivery Fri, 4 Jul Add to cart\\n\\n\\n\\n\\n\\n\\nSponsoredSponsored You are seeing this ad based on the product’s relevance to your search query.Let us know  Dell 15 Thin & Light Laptop, Intel Core 13th Generation i5-1334U Processor, 16GB DDR4 & 512GB SSD, 15.6\" (39.62cm) FHD 120Hz 250 nits, Windows 11 + MSO\\'21 + 15 Month Mcafee, Carbon Black, 1.66kg 4.0 out of 5 stars 55  Price, product page₹52,990₹52,990 M.R.P: ₹70,761M.R.P: ₹70,761₹70,761 (25% off) FREE delivery Sat, 5 Jul Or fastest delivery Fri, 4 Jul Add to cart\\n\\n\\n\\nASUS TUF Gaming A15, AMD Ryzen 7 7435HS Gaming Laptop(NVIDIA RTX 3050-4GB/60W TGP/16GB RAM/512GB SSD/FHD/15.6\"/144Hz/RGB KB/48WHr/Windows 11//Graphite Black/2.30 Kg) FA506NCR-HN054W 3.9 out of 5 stars 325  200+ bought in past monthPrice, product page₹64,590₹64,590 M.R.P: ₹83,990M.R.P: ₹83,990₹83,990 (23% off)Save extra with No Cost EMI FREE delivery Fri, 4 Jul Add to cart\\nASUS TUF Gaming A15, 15.6\" (39.62cm) FHD 16:9 144Hz, AMD Ryzen 7 7435HS, Gaming Laptop (16 DDR5/512GB SSD/NVIDIA GeForce RTX 2050/Windows 11 Home/Graphite Black/2.30 Kg), FA506NFR-HN045W 3.9 out of 5 stars 325  100+ bought in past monthLimited time dealPrice, product page₹56,990₹56,990 M.R.P: ₹74,990M.R.P: ₹74,990₹74,990 (24% off)Save extra with No Cost EMI FREE delivery Fri, 4 Jul Add to cart\\nASUS TUF Gaming A15 AMD Ryzen 7 Octa Core 7435HS - (16 GB/512 GB SSD/Windows 11 Home/4 GB Graphics/NVIDIA GeForce RTX 2050) FA566NFR-HN259W Gaming Laptop (15.6 inch, Graphite Black, 2.30 Kg) 3.8 out of 5 stars 37  50+ bought in past monthLimited time dealPrice, product page₹56,990₹56,990 M.R.P: ₹80,990M.R.P: ₹80,990₹80,990 (30% off) FREE delivery Fri, 4 Jul Add to cartMore Buying Choices₹56,988(5 new offers)\\n\\n\\n\\n\\nMore results\\n\\n\\n\\n\\n\\n\\n\\nASUS TUF Gaming A15, AMD Ryzen 7 7435HS, NVIDIA GeForce RTX 3050, 16GB RAM, 1TB SSD, FHD 144Hz 250 nits, 15.6\", Windows 11, Black, 2.30KG, FA566NCR-HN117W Gaming Laptop 3.9 out of 5 stars 325  100+ bought in past monthPrice, product page₹68,990₹68,990 M.R.P: ₹85,990M.R.P: ₹85,990₹85,990 (20% off)FREE delivery as soon as Tue, 8 Jul, 9 am - 5 pm Add to cart\\nAmazon\\'s Choicefor \"asus tuf gaming a15\"ASUS TUF Gaming A15,AMD Ryzen 7 7435HS Gaming Laptop(NVIDIA RTX 4060-8GB/140W TGP/16GB RAM/512GB SSD/FHD/15.6\"/144Hz/Windows 11/M365 Basic (1Year)*/Office Home 2024/Mecha Gray/2.20 Kg)FA507NVR-LP204WS 4.4 out of 5 stars 45  50+ bought in past monthPrice, product page₹94,990₹94,990 M.R.P: ₹1,19,990M.R.P: ₹1,19,990₹1,19,990 (21% off)Save extra with No Cost EMI FREE delivery Fri, 4 Jul Add to cart\\nASUS TUF Gaming A15, AMD Ryzen 7 7435HS, 15.6\" FHD 16:9 144Hz 250 nits, Gaming Laptop (16GB RAM/512GB SSD/NVIDIA GeForce RTX 2050/Win 11 Home/48WHr Battery/Graphite Black/2.30Kg), FA566NFR-HN045WS 3.5 out of 5 stars 3  Price, product page₹57,590₹57,590 M.R.P: ₹82,990M.R.P: ₹82,990₹82,990 (31% off) FREE delivery Tue, 8 Jul Add to cart\\nASUS TUF Gaming A15, AMD Ryzen 7 7435HS, NVIDIA GeForce RTX 3050, 16GB RAM, 512GB SSD, FHD 144Hz 250 nits, 15.6\", Windows 11, MS Office, Black, 2.30KG, FA566NCR-HN254WS Gaming Laptop 3.9 out of 5 stars 325  Price, product page₹66,950₹66,950 M.R.P: ₹89,990M.R.P: ₹89,990₹89,990 (26% off)Save extra with No Cost EMI FREE delivery Fri, 4 Jul Add to cart\\nASUS TUF Gaming A15, AMD Ryzen 7 7435HS, 15.6-inch FHD 144Hz, Gaming Laptop (16GB/512GB SSD/NVIDIA GeForce RTX 4050/Windows 11/90WHr/Mecha Gray/2.2 Kg), FA507NUR-LP082W 4.0 out of 5 stars 64  Price, product page₹84,990₹84,990 M.R.P: ₹1,07,990M.R.P: ₹1,07,990₹1,07,990 (21% off)Save extra with No Cost EMI FREE delivery Fri, 4 Jul Add to cart\\n\\n\\n\\nSponsoredSponsored You are seeing this ad based on the product’s relevance to your search query.Let us know  Lenovo LOQ 2024 AMD Ryzen 5 7235HS 15.6\" (39.6cm) 144Hz 300Nits FHD IPS Gaming Laptop (12GB/512GB SSD/Win 11/NVIDIA RTX 3050 6GB Graphics/100% sRGB/Office 21/3 Mon. Game Pass/Grey/2.4Kg), 83JC0031IN 4.1 out of 5 stars 92  100+ bought in past monthPrice, product page₹63,974₹63,974 M.R.P: ₹87,990M.R.P: ₹87,990₹87,990 (27% off)Save extra with No Cost EMI FREE delivery Fri, 4 Jul Add to cart\\n\\n\\n\\n\\n\\n\\nSponsoredSponsored You are seeing this ad based on the product’s relevance to your search query.Let us know  Lenovo LOQ 2024, AMD Ryzen 7 7435HS, NVIDIA RTX 4060-8GB, 24GB RAM, 512GB SSD, 15.6\"/39.6cm, Windows 11, MS Office Home 2024, Grey, 2.4Kg, 83JC00EHIN, 100% sRGB, 3 Mon. Game Pass Gaming Laptop 4.2 out of 5 stars 77  100+ bought in past monthPrice, product page₹92,990₹92,990 M.R.P: ₹1,27,990M.R.P: ₹1,27,990₹1,27,990 (27% off)Save extra with No Cost EMI FREE delivery Fri, 4 Jul Add to cart+3 other colors/patterns\\n\\n\\n\\nASUS TUF Gaming A15, AMD Ryzen 7 7435HS, NVIDIA GeForce RTX 3050, 16GB RAM, 512GB SSD, FHD 144Hz 250 nits, 15.6\", Windows 11, Black, 2.30KG, FA566NCR-HN075W Gaming Laptop 3.8 out of 5 stars 37  Price, product page₹64,989₹64,989 M.R.P: ₹69,990M.R.P: ₹69,990₹69,990 (7% off) FREE delivery Tue, 8 Jul Add to cart\\nASUS TUF Gaming A15, 15.6\" FHD 16:9, 144Hz 250nits, AMD Ryzen 7 7435HS Processor, Gaming Laptop (16GB RAM/512GB SSD/RTX 4060/Win 11/Office Home/90WHr Battery/Mecha Gray/2.2 Kg),FA507NVR-LP104WS 4.4 out of 5 stars 45  Price, product page₹94,990₹94,990 M.R.P: ₹1,19,990M.R.P: ₹1,19,990₹1,19,990 (21% off)Save extra with No Cost EMIFREE delivery as soon as Sat, 5 Jul, 9 am - 5 pm Or fastest delivery Fri, 4 Jul Add to cart\\nASUS TUF Gaming F15, 15.6\" FHD 16:9, 144Hz 250nits, Intel Core i7-13620H 13th Gen, Gaming Laptop (16GB RAM/512GB SSD/RTX 4050/Windows 11/Office Home/90WHr Battery/Mecha Gray/2.2 Kg), FX507VU-LP210WS 3.8 out of 5 stars 10  Price, product page₹93,090₹93,090 M.R.P: ₹1,24,990M.R.P: ₹1,24,990₹1,24,990 (26% off)Save extra with No Cost EMI FREE delivery Fri, 4 Jul Add to cart\\nASUS TUF Gaming A15, 15.6\" (39.62Cm) FHD 144Hz, AMD Ryzen 7 8845HS, Gaming Laptop (16GB DDR5/512GB SSD/NVIDIA Geforce RTX 4060 /Windows 11/Office 2021/Mecha Gray/2.20 Kg), FA507UV-LP136WS 4.4 out of 5 stars 2  Price, product page₹1,12,790₹1,12,790 M.R.P: ₹2,03,990M.R.P: ₹2,03,990₹2,03,990 (45% off) FREE delivery Tue, 8 Jul Only 1 left in stock.Add to cart\\nASUS TUF Gaming A15, 15.6\" FHD (1920 x 1080) 16:9, AMD Ryzen 7 7435HS Mobile Processor, Gaming Laptop (16GB RAM/512GB SSD//Windows 11/Office Home/48WHr Battery/Graphite Black/2.3Kg), FA566NCR-HN054WS 3.5 out of 5 stars 3  Price, product page₹66,790₹66,790 M.R.P: ₹78,990M.R.P: ₹78,990₹78,990 (15% off)Save 1% with coupon FREE delivery Tue, 8 Jul Add to cart\\n(Refurbished) ASUS TUF Gaming A15,AMD Ryzen 7 7435HS Gaming Laptop(NVIDIA RTX 4060-8GB/140W TGP/16GB RAM/512GB SSD/FHD/15.6\"/144Hz/Windows 11/M365 Basic (1Year)*/Office Home 2024/Mecha Gray/2.20 Kg)FA507NVR-LP204WS Price, product page₹84,991₹84,991 New Price: ₹94,990New Price: ₹94,990₹94,990 (11% off) FREE delivery Sun, 13 Jul Only 1 left in stock.See options\\nASUS TUF Gaming A15, AMD Ryzen 9 8945H Gaming Laptop(NVIDIA RTX 4060-8GB/140W TGP/16GB RAM/1TB SSD/FHD/15.6\"/144Hz/RGB KB/90WHr/Windows 11/Office 2021/Mecha Gray/2.20 Kg) FA507UV-LP137WS 3.6 out of 5 stars 4  Price, product page₹1,29,990₹1,29,990 M.R.P: ₹1,61,990M.R.P: ₹1,61,990₹1,61,990 (20% off) FREE delivery Tue, 8 Jul Only 1 left in stock.Add to cart\\nASUS TUF Gaming A15, 15.6\" FHD (1920 x 1080), AMD Ryzen 7 7435HS, (16GB RAM/512GB SSD/RTX 3050/Windows 11/M365 Basic (1Year)*/Office Home 2024/Graphite Black/2.3 kg), FA506NCR-HN275WS Price, product page₹74,070₹74,070 M.R.P: ₹91,990M.R.P: ₹91,990₹91,990 (19% off) FREE delivery Fri, 4 Jul Add to cart\\n\\n\\n\\n\\nMore results\\n\\n\\n\\n\\n\\n\\n\\n\\n\\n\\nSponsoredSponsored You are seeing this ad based on the product’s relevance to your search query.Let us know  Thinkpad L480 90 Business Laptop,Core i5 8th Generation 14-inch Display, Black, 8GB Ram, 256GB SSD Price, product page₹21,990₹21,990 M.R.P: ₹89,990M.R.P: ₹89,990₹89,990 (76% off) FREE delivery Tue, 8 Jul Only 1 left in stock.Add to cart\\n\\n\\n\\n\\n\\n\\nSponsoredSponsored You are seeing this ad based on the product’s relevance to your search query.Let us know  Lenovo LOQ AMD Ryzen 5 7235HS | NVIDIA RTX 3050A 4GB (12GB RAM/512GB SSD/144Hz Refresh Rate/15.6\" (39.6cm)/Windows 11/Office Home 2024/3 Mon. Game Pass/Grey/2.4Kg), 83JC00HNIN AI Gaming Laptop 4.6 out of 5 stars 8  Price, product page₹62,990₹62,990 M.R.P: ₹83,990M.R.P: ₹83,990₹83,990 (25% off)Prime Savings 3%  Off on ICICI Credit CBCCCards FREE delivery Fri, 4 Jul Add to cart+3 other colors/patterns\\n\\n\\n\\n\\n\\n\\n\\nRelated searches\\n\\n\\n\\n\\n\\n\\n\\n\\n\\n\\n\\n\\n\\n\\n                                                        asus tuf gaming f15\\n                                                    \\n\\n\\n\\n\\n\\n\\n\\n\\n\\n\\n\\n\\n\\n\\n                                                            hp victus\\n                                                        \\n\\n\\n\\n\\n\\n\\n\\n\\n\\n\\n\\n\\n\\n\\n\\n\\n\\n\\n                                                        acer nitro 5\\n                                                    \\n\\n\\n\\n\\n\\n\\n\\n\\n\\n\\n\\n\\n\\n\\n                                                            asus vivobook 15\\n                                                        \\n\\n\\n\\n\\n\\n\\n\\n\\n\\n\\n\\n\\n\\n\\n\\n\\n\\n\\n                                                        lenovo ideapad gaming 3\\n                                                    \\n\\n\\n\\n\\n\\n\\n\\n\\n\\n\\n\\n\\n\\n\\n                                                            asus vivobook 16x\\n                                                        \\n\\n\\n\\n\\n\\n\\n\\n\\n\\n\\n\\n\\n\\nPrevious123...20Next\\n\\n\\n\\n\\n\\nNeed help?\\n\\nVisit the help section or contact us\\n\\n\\n\\n\\n\\n\\n\\n\\n\\n\\n\\n\\n\\n\\n\\n\\n\\n\\n\\n\\n\\n\\n\\n\\n\\n\\n\\n                Go back to filtering menu\\n            \\n\\n\\n\\n\\n\\n\\n                Skip to main search results\\n            \\n\\n\\n\\n\\n\\n\\n\\n\\n        No selected filters\\n      \\n\\n\\n\\n\\n                Filters\\n            \\n\\n\\n\\n\\n\\n\\n\\n\\n\\n\\n\\n\\nDelivery Day\\n\\n\\n\\n\\n\\n\\n\\nGet It in 2 Days\\n\\n\\n\\n\\n\\n\\n\\n\\nBrands\\n\\n\\n\\n\\n\\n\\n\\nASUS\\n\\n\\n\\n\\n\\n\\n\\nHP\\n\\n\\n\\n\\n\\n\\n\\nLenovo\\n\\n\\n\\n\\n\\n\\n\\nMSI\\n\\n\\n\\n\\n\\n\\n\\nacer\\n\\n\\n\\n\\n\\n\\n\\nDell\\n\\n\\n\\n\\n\\n\\n\\nSaco\\n\\n\\n\\n\\n\\n\\n\\n\\nProcessor Type\\n\\n\\n\\n\\n\\n\\n\\nIntel Core i5\\n\\n\\n\\n\\n\\n\\n\\nAMD Ryzen 7\\n\\n\\n\\n\\n\\n\\n\\nIntel Core i7\\n\\n\\n\\n\\n\\n\\n\\nAMD Ryzen 5\\n\\n\\n\\n\\n\\n\\n\\nAMD Ryzen 9\\n\\n\\n\\n\\n\\n\\n\\n\\nRAM Size\\n\\n\\n\\n\\n\\n\\n\\n32 GB\\n\\n\\n\\n\\n\\n\\n\\n16 GB\\n\\n\\n\\n\\n\\n\\n\\n8 GB\\n\\n\\n\\n\\n\\n\\n\\n\\nCPU Manufacturer\\n\\n\\n\\n\\n\\n\\n\\nAMD\\n\\n\\n\\n\\n\\n\\n\\nIntel\\n\\n\\n\\n\\n\\n\\n\\n\\nGraphics Processor\\n\\n\\n\\n\\n\\n\\n\\nNvidia GeForce Series\\n\\n\\n\\n\\n\\n\\n\\nNvidia GeForce RTX Series\\n\\n\\n\\n\\n\\n\\n\\nNvidia GeForce GT Series\\n\\n\\n\\n\\n\\n\\n\\nNvidia GeForce GTX Series\\n\\n\\n\\n\\n\\n\\n\\n\\nGraphics Coprocessor\\n\\n\\n\\n\\n\\n\\n\\nNVIDIA GeForce RTX 3050\\n\\n\\n\\n\\n\\n\\n\\nIntel Iris Xe Graphics\\n\\n\\n\\n\\n\\n\\n\\nNVIDIA GeForce RTX 2050\\n\\n\\n\\n\\n\\n\\n\\nNVIDIA GeForce GTX 1650\\n\\n\\n\\n\\n\\n\\n\\n\\n\\nPrice\\n\\n\\n\\n\\n\\n\\n\\n\\n\\n\\n\\n\\n\\n\\n₹225\\n\\n\\n–\\n\\n\\n₹246,300+\\n\\n\\n\\n\\n\\n\\n\\n\\n\\n\\n\\n\\n\\nGo\\n\\n\\n\\n\\n\\n\\n\\n\\nDeals & Discounts\\n\\n\\n\\n\\n\\n\\nAll Discounts\\n\\n\\n\\n\\n\\n\\nToday\\'s Deals\\n\\n\\n\\n\\n\\n\\n\\n\\nSpecific Uses\\n\\n\\n\\n\\n\\n\\n\\nGaming\\n\\n\\n\\n\\n\\n\\n\\nStudent\\n\\n\\n\\n\\n\\n\\n\\nDeveloper\\n\\n\\n\\n\\n\\n\\n\\nEntertainment\\n\\n\\n\\n\\n\\n\\n\\nBusiness\\n\\n\\n\\n\\n\\n\\n\\n\\nHDD Size\\n\\n\\n\\n\\n\\n\\nUp to 159 GB\\n\\n\\n\\n\\n\\n160 - 249 GB\\n\\n\\n\\n\\n\\n250 - 499 GB\\n\\n\\n\\n\\n\\n\\n500 - 999 GB\\n\\n\\n\\n\\n\\n\\n\\n1 TB & above\\n\\n\\n\\n\\n\\n\\n\\n\\nCustomer Review\\n\\n\\n\\n\\n\\n\\n\\n4 Stars\\n& Up\\n\\n\\n\\n\\n\\n\\n\\n\\n\\nGraphics Memory\\n\\n\\n\\n\\n\\n\\n\\n8 GB & Above\\n\\n\\n\\n\\n\\n\\n\\n6 to 7 GB\\n\\n\\n\\n\\n\\n\\n\\n4 to 5 GB\\n\\n\\n\\n\\n\\n\\n\\n\\nScreen Size\\n\\n\\n\\n\\n\\n\\n\\n13\" - 14\"\\n\\n\\n\\n\\n\\n\\n\\n15\" - 16\"\\n\\n\\n\\n\\n\\n\\n\\n\\nHard Drive Type\\n\\n\\n\\n\\n\\n\\n\\nSSD\\n\\n\\n\\n\\n\\n\\n\\n\\nRAM Technology\\n\\n\\n\\n\\n\\n\\n\\nDDR4\\n\\n\\n\\n\\n\\n\\n\\nDDR5\\n\\n\\n\\n\\n\\n\\n\\nLPDDR5\\n\\n\\n\\n\\n\\n\\n\\n\\nItem Condition\\n\\n\\n\\n\\n\\n\\nNew\\n\\n\\n\\n\\n\\n\\nRenewed\\n\\n\\n\\n\\n\\n\\n\\n\\nCategory\\n\\n\\n\\n\\n\\n\\nLaptops\\n\\n\\n\\n\\nTraditional Laptops\\n\\n\\n\\n\\n\\n\\n\\n\\nDisplay Refresh Rate\\n\\n\\n\\n\\n\\n\\n\\n121 Hz & Above\\n\\n\\n\\n\\n\\n\\n\\n90 to 120.9 Hz\\n\\n\\n\\n\\n\\n\\n\\n59 to 89.9 Hz\\n\\n\\n\\n\\n\\n\\n\\n\\nOperating System\\n\\n\\n\\n\\n\\n\\n\\nWindows 11 Home\\n\\n\\n\\n\\n\\n\\n\\n\\nDiscount\\n\\n\\n\\n\\n\\n\\n10% Off or more\\n\\n\\n\\n\\n\\n\\n25% Off or more\\n\\n\\n\\n\\n\\n\\n35% Off or more\\n\\n\\n\\n\\n\\n\\n50% Off or more\\n\\n\\n\\n\\n\\n\\n60% Off or more\\n\\n\\n\\n\\n\\n\\n70% Off or more\\n\\n\\n\\n\\n\\n\\n\\n\\nConnectivity\\n\\n\\n\\n\\n\\n\\n\\nBluetooth\\n\\n\\n\\n\\n\\n\\n\\nWi-Fi\\n\\n\\n\\n\\n\\n\\n\\nUSB\\n\\n\\n\\n\\n\\n\\n\\nEthernet\\n\\n\\n\\n\\n\\n\\n\\nHDMI\\n\\n\\n\\n\\n\\n\\n\\n\\nAvailability\\n\\n\\n\\n\\n\\n\\n\\nInclude Out of Stock\\n\\n\\n\\n\\n\\n\\n\\n\\nDisplay Type\\n\\n\\n\\n\\n\\n\\n\\nLCD\\n\\n\\n\\n\\n\\n\\n\\nLED\\n\\n\\n\\n\\n\\n\\n\\nOLED\\n\\n\\n\\n\\n\\n\\n\\n\\nProcessor Count\\n\\n\\n\\n\\n\\n\\n\\n16\\n\\n\\n\\n\\n\\n\\n\\n14\\n\\n\\n\\n\\n\\n\\n\\n12\\n\\n\\n\\n\\n\\n\\n\\n8\\n\\n\\n\\n\\n\\n\\n\\n6\\n\\n\\n\\n\\n\\n\\n\\n1\\n\\n\\n\\n\\n\\n\\n\\n\\nProcessor Speed\\n\\n\\n\\n\\n\\n\\n\\n1 to 1.59 GHz\\n\\n\\n\\n\\n\\n\\n1.60 to 1.79 GHz\\n\\n\\n\\n\\n\\n1.80 to 1.99 GHz\\n\\n\\n\\n\\n\\n\\n2.00 to 2.49 GHz\\n\\n\\n\\n\\n\\n\\n\\n2.50 to 2.99 GHz\\n\\n\\n\\n\\n\\n\\n\\n3.00 to 3.49 GHz\\n\\n\\n\\n\\n\\n\\n3.50 to 3.99 GHz\\n\\n\\n\\n\\n\\n\\n4.0 GHz & Above\\n\\n\\n\\n\\n\\n\\n\\n\\nWeight\\n\\n\\n\\n\\n\\n\\n\\nUp to 0.9 kg\\n\\n\\n\\n\\n\\n\\n\\n1.0 to 1.4 kg\\n\\n\\n\\n\\n\\n\\n\\n1.5 to 1.9 kg\\n\\n\\n\\n\\n\\n\\n\\n2.0 to 2.4 kg\\n\\n\\n\\n\\n\\n\\n\\n2.5 kg & above\\n\\n\\n\\n\\n\\n\\n\\n\\nSecurity Feature\\n\\n\\n\\n\\n\\n\\n\\nFingerprint Recognition\\n\\n\\n\\n\\n\\n\\n\\nFace Recognition\\n\\n\\n\\n\\n\\n\\n\\n\\nComputers & Accessories Brands\\n\\n\\n\\n\\n\\n\\n\\nTop Brands\\n\\n\\n\\n\\n\\n\\n\\n\\nBattery Life\\n\\n\\n\\n\\n\\n\\n\\n8 to 10h\\n\\n\\n\\n\\n\\n\\n\\n5 to 7h\\n\\n\\n\\n\\n\\n\\n\\nUp to 4h\\n\\n\\n\\n\\n\\n\\n\\n\\nDisplay Resolution\\n\\n\\n\\n\\n\\n\\n\\n1080p\\n\\n\\n\\n\\n\\n\\n\\n\\nFeatures\\n\\n\\n\\n\\n\\n\\n\\nBacklit Keyboard\\n\\n\\n\\n\\n\\n\\n\\nAnti Glare Coating\\n\\n\\n\\n\\n\\n\\n\\nLightweight\\n\\n\\n\\n\\n\\n\\n\\n\\nNotebook Computer Hardware Interface\\n\\n\\n\\n\\n\\n\\n\\nUSB\\n\\n\\n\\n\\n\\n\\n\\nBluetooth\\n\\n\\n\\n\\n\\n\\n\\n3.5mm Audio\\n\\n\\n\\n\\n\\n\\n\\nBluetooth 5\\n\\n\\n\\n\\n\\n\\n\\n\\nPay On Delivery\\n\\n\\n\\n\\n\\n\\n\\nEligible for Pay On Delivery\\n\\n\\n\\n\\n\\n\\n\\n\\nNew Arrivals\\n\\n\\n\\n\\n\\n\\nLast 30 days\\n\\n\\n\\n\\n\\n\\nLast 90 days\\n\\n\\n\\n\\n\\n\\n\\n\\nSeller\\n\\n\\n\\n\\n\\n\\n\\nRAMGANGA\\n\\n\\n\\n\\n\\n\\n\\nClicktech Retail Private Ltd\\n\\n\\n\\n\\n\\n\\n\\n\\n\\n\\n\\nTreat\\n\\n\\n\\n\\n\\n\\n\\nHybrid Store.\\n\\n\\n\\n\\n\\n\\n\\nsaco\\n\\n\\n\\n\\n\\n\\n\\nClicktech Business\\n\\n\\n\\n\\n\\n\\n\\nOAKY (Official Store)\\n\\n\\n\\n\\n\\nSee more\\n\\n\\n\\n\\n\\n\\n\\nRAM Type\\n\\n\\n\\n\\n\\n\\n\\nDDR4 SDRAM\\n\\n\\n\\n\\n\\n\\n\\nDDR5 RAM\\n\\n\\n\\n\\n\\n\\n\\nSODIMM\\n\\n\\n\\n\\n\\n\\n\\n\\nMemory Slots\\n\\n\\n\\n\\n\\n\\n\\n2\\n\\n\\n\\n\\n\\n\\n\\n\\nCell Composition\\n\\n\\n\\n\\n\\n\\n\\nLithium Ion\\n\\n\\n\\n\\n\\n\\n\\nLithium Polymer\\n\\n\\n\\n\\n\\n\\n\\n\\nAudio Output\\n\\n\\n\\n\\n\\n\\n\\nHeadphones\\n\\n\\n\\n\\n\\n\\n\\nSpeakers\\n\\n\\n\\n\\n\\n\\n\\n\\nHard Disk Interface\\n\\n\\n\\n\\n\\n\\n\\nSolid State\\n\\n\\n\\n\\n\\n\\n\\nPCIE x 4\\n\\n\\n\\n\\n\\n\\n\\n\\nMax Resolution\\n\\n\\n\\n\\n\\n\\n\\n1920 x 1080\\n\\n\\n\\n\\n\\n\\n\\n1920 x 1200\\n\\n\\n\\n\\n\\n\\n\\n2560 x 1440\\n\\n\\n\\n\\n\\n\\n\\n2560 x 1600\\n\\n\\n\\n\\n\\n\\n\\n2880 x 1800\\n\\n\\n\\n\\n\\n\\n\\n\\nGPU Manufacturer\\n\\n\\n\\n\\n\\n\\n\\nAMD\\n\\n\\n\\n\\n\\n\\n\\nIntel\\n\\n\\n\\n\\n\\n\\n\\nNVIDIA\\n\\n\\n\\n\\n\\n\\n\\nQualcomm\\n\\n\\n\\n\\n\\n\\n\\n\\nKeyboard Type\\n\\n\\n\\n\\n\\n\\n\\nBacklit\\n\\n\\n\\n\\n\\n\\n\\nChiclet\\n\\n\\n\\n\\n\\n\\n\\nErgonomic\\n\\n\\n\\n\\n\\n\\n\\nGaming\\n\\n\\n\\n\\n\\n\\n\\n\\nWi-Fi Generation\\n\\n\\n\\n\\n\\n\\n\\nWi-Fi 6\\n\\n\\n\\n\\n\\n\\n\\nWi-Fi 5\\n\\n\\n\\n\\n\\n\\n\\nWi-Fi 6E\\n\\n\\n\\n\\n\\n\\n\\nWi-Fi 7\\n\\n\\n\\n\\n\\n\\n\\n\\nInput\\n\\n\\n\\n\\n\\n\\n\\nTouch Pad\\n\\n\\n\\n\\n\\n\\n\\n\\n\\n\\n\\n\\n\\n\\n\\n\\n\\n\\n\\n\\n\\n\\n\\n\\n\\n\\n\\n\\n\\n\\n\\n\\n\\n\\n\\n\\n\\n\\n\\n\\n\\n\\n\\n\\n\\n\\n\\n\\n\\n\\n\\n\\n\\n\\n\\n\\n\\n\\n\\n\\n\\n\\n\\n\\n\\n\\n\\n\\n\\n\\n\\n\\n\\n\\n\\n\\n\\n\\n\\n\\n\\n\\n\\n\\n\\n\\n                    Your recently viewed items and featured recommendations      ›    View or edit your browsing history     After viewing product detail pages, look here to find an easy way to navigate back to pages you are interested in.         Your recently viewed items and featured recommendations      ›    View or edit your browsing history     After viewing product detail pages, look here to find an easy way to navigate back to pages you are interested in.        \\n\\n\\n\\n\\n    Back to top\\n  \\n\\n\\n\\n\\n\\nGet to Know Us\\n\\n\\nAbout Amazon\\n\\n\\nCareers\\n\\n\\nPress Releases\\n\\n\\nAmazon Science\\n\\n\\n\\n\\n\\nConnect with Us\\n\\n\\nFacebook\\n\\n\\nTwitter\\n\\n\\nInstagram\\n\\n\\n\\n\\n\\nMake Money with Us\\n\\n\\nSell on Amazon\\n\\n\\nSell under Amazon Accelerator\\n\\n\\nProtect and Build Your Brand\\n\\n\\nAmazon Global Selling\\n\\n\\nSupply to Amazon\\n\\n\\nBecome an Affiliate\\n\\n\\nFulfilment by Amazon\\n\\n\\nAdvertise Your Products\\n\\n\\nAmazon Pay on Merchants\\n\\n\\n\\n\\n\\nLet Us Help You\\n\\n\\nYour Account\\n\\n\\nReturns Centre\\n\\n\\nRecalls and Product Safety Alerts\\n\\n\\n100% Purchase Protection\\n\\n\\nAmazon App Download\\n\\n\\nHelp\\n\\n\\n\\n\\n\\n\\n\\n\\n\\n\\n\\n\\n\\n\\n\\n\\n\\n\\nEnglish\\n\\n\\n\\n\\n\\nIndia\\n\\n\\n\\n\\n\\n\\nAbeBooksBooks, art& collectibles\\nAmazon Web ServicesScalable CloudComputing Services\\nAudibleDownloadAudio Books\\nIMDbMovies, TV& Celebrities\\n\\nShopbopDesignerFashion Brands\\n\\t\\nAmazon BusinessEverything ForYour Business\\nPrime Now 2-Hour Deliveryon Everyday Items\\nAmazon Prime Music100 million songs, ad-freeOver 15 million podcast episodes \\n\\n\\n\\nConditions of Use & Sale Privacy Notice Interest-Based Ads © 1996-2025, Amazon.com, Inc. or its affiliates\\n\\n\\n\\n\\n\\n\\n\\n\\n\\n\\n\\n\\n\\n\\n\\n\\n\\n\\n\\n\\n\\n\\n\\n\\n\\n\\n'"
      ]
     },
     "execution_count": 23,
     "metadata": {},
     "output_type": "execute_result"
    }
   ],
   "source": [
    "docs[0].page_content"
   ]
  },
  {
   "cell_type": "code",
   "execution_count": 24,
   "id": "64e41779",
   "metadata": {},
   "outputs": [],
   "source": [
    "text_splitter = RecursiveCharacterTextSplitter(\n",
    "    chunk_size=1000,\n",
    "    chunk_overlap=200,\n",
    "    length_function=len\n",
    ")"
   ]
  },
  {
   "cell_type": "code",
   "execution_count": 25,
   "id": "dc249473",
   "metadata": {},
   "outputs": [],
   "source": [
    "splits = text_splitter.split_documents(docs)\n",
    "# for split in splits:\n",
    "#     print(split)"
   ]
  },
  {
   "cell_type": "code",
   "execution_count": 26,
   "id": "49ca07f3",
   "metadata": {},
   "outputs": [
    {
     "name": "stdout",
     "output_type": "stream",
     "text": [
      "27\n"
     ]
    }
   ],
   "source": [
    "print(len(splits))"
   ]
  },
  {
   "cell_type": "code",
   "execution_count": 27,
   "id": "6be1759f",
   "metadata": {},
   "outputs": [],
   "source": [
    "embeddings = GoogleGenerativeAIEmbeddings(model=\"models/embedding-001\")"
   ]
  },
  {
   "cell_type": "code",
   "execution_count": 28,
   "id": "430f0060",
   "metadata": {},
   "outputs": [
    {
     "name": "stderr",
     "output_type": "stream",
     "text": [
      "Failed to send telemetry event ClientStartEvent: capture() takes 1 positional argument but 3 were given\n"
     ]
    },
    {
     "name": "stderr",
     "output_type": "stream",
     "text": [
      "Failed to send telemetry event ClientCreateCollectionEvent: capture() takes 1 positional argument but 3 were given\n"
     ]
    }
   ],
   "source": [
    "vector_store = Chroma(\n",
    "    collection_name=\"Rag_Collection\",\n",
    "    embedding_function=embeddings,\n",
    "    persist_directory=\"./chroma_langchain_db\",  # Where to save data locally, remove if not necessary\n",
    ")"
   ]
  },
  {
   "cell_type": "code",
   "execution_count": 44,
   "id": "72eaa794",
   "metadata": {},
   "outputs": [
    {
     "name": "stderr",
     "output_type": "stream",
     "text": [
      "Failed to send telemetry event ClientStartEvent: capture() takes 1 positional argument but 3 were given\n",
      "Failed to send telemetry event ClientCreateCollectionEvent: capture() takes 1 positional argument but 3 were given\n"
     ]
    }
   ],
   "source": [
    "vectorstore =  Chroma.from_documents(documents=docs,embedding=embeddings)"
   ]
  },
  {
   "cell_type": "code",
   "execution_count": 45,
   "id": "462f6e5c",
   "metadata": {},
   "outputs": [
    {
     "name": "stdout",
     "output_type": "stream",
     "text": [
      "[Document(id='052ffad8-30a4-4f35-b3fc-e75792ce2251', metadata={'source': 'https://python.langchain.com/api_reference/core/runnables/langchain_core.runnables.history.RunnableWithMessageHistory.html', 'title': 'RunnableWithMessageHistory — 🦜🔗 LangChain  documentation', 'language': 'en'}, page_content='RunnableWithMessageHistory — 🦜🔗 LangChain  documentation\\n\\n\\n\\n\\n\\n\\n\\n\\n\\n\\n\\n\\n\\n\\n\\n\\n\\n\\n\\n\\n\\n\\n\\n\\n\\n\\n\\n\\n\\n\\n\\n\\n\\n\\n\\nSkip to main content\\n\\n\\nBack to top\\n\\n\\n\\n\\nCtrl+K\\n\\n\\n\\n\\n\\n\\n\\n\\n\\n\\n\\n\\n\\n\\n\\n\\n\\n\\n\\n\\n\\n\\n\\n\\n    Reference\\n  \\n\\n\\n\\n\\n\\n\\n\\n\\n\\nCtrl+K\\n\\n\\n\\n\\n\\n\\n\\nDocs\\n\\n\\n\\n\\n\\n\\n\\n\\n\\n\\nGitHub\\n\\n\\n\\nX / Twitter\\n\\n\\n\\n\\n\\n\\n\\n\\nCtrl+K\\n\\n\\n\\n\\n\\n\\n\\n\\n\\n\\n\\n\\n\\n\\n\\n\\n\\n\\n    Reference\\n  \\n\\n\\n\\n\\n\\n\\n\\n\\n\\n\\nDocs\\n\\n\\n\\n\\n\\n\\n\\n\\n\\n\\nGitHub\\n\\n\\n\\nX / Twitter\\n\\n\\n\\n\\n\\n\\n\\nSection Navigation\\nBase packages'), Document(id='b40062a3-5fdc-4d2c-a6ee-57548e05bc6f', metadata={'source': 'https://python.langchain.com/api_reference/core/runnables/langchain_core.runnables.history.RunnableWithMessageHistory.html', 'title': 'RunnableWithMessageHistory — 🦜🔗 LangChain  documentation', 'language': 'en'}, page_content='Initialize RunnableWithMessageHistory.\\n\\nParameters:\\n\\nrunnable – The base Runnable to be wrapped. Must take as input one of:\\n1. A list of BaseMessages\\n2. A dict with one key for all messages\\n3. A dict with one key for the current input string/message(s) and\\n\\na separate key for historical messages. If the input key points\\nto a string, it will be treated as a HumanMessage in history.\\n\\nMust return as output one of:\\n1. A string which can be treated as an AIMessage\\n2. A BaseMessage or sequence of BaseMessages\\n3. A dict with a key for a BaseMessage or sequence of BaseMessages\\n\\nget_session_history – Function that returns a new BaseChatMessageHistory.\\nThis function should either take a single positional argument\\nsession_id of type string and return a corresponding\\nchat message history instance.\\n.. code-block:: python\\n\\n\\ndef get_session_history(session_id: str,\\n*,\\nuser_id: Optional[str]=None\\n\\n) -> BaseChatMessageHistory:…'), Document(id='49e63371-b5fa-4319-ac6f-48adc5645271', metadata={'title': 'RunnableWithMessageHistory — 🦜🔗 LangChain  documentation', 'source': 'https://python.langchain.com/api_reference/core/runnables/langchain_core.runnables.history.RunnableWithMessageHistory.html', 'language': 'en'}, page_content='param bound: Runnable[Input, Output] [Required]#\\nThe underlying Runnable that this Runnable delegates to.\\n\\n\\n\\nparam config: RunnableConfig [Optional]#\\nThe config to bind to the underlying Runnable.\\n\\n\\n\\nparam config_factories: list[Callable[[RunnableConfig], RunnableConfig]] [Optional]#\\nThe config factories to bind to the underlying Runnable.\\n\\n\\n\\nparam custom_input_type: Any | None = None#\\nOverride the input type of the underlying Runnable with a custom type.\\nThe type can be a pydantic model, or a type annotation (e.g., list[str]).\\n\\n\\n\\nparam custom_output_type: Any | None = None#\\nOverride the output type of the underlying Runnable with a custom type.\\nThe type can be a pydantic model, or a type annotation (e.g., list[str]).\\n\\n\\n\\nparam get_session_history: GetSessionHistoryCallable [Required]#\\n\\n\\n\\nparam history_factory_config: Sequence[ConfigurableFieldSpec] [Required]#\\n\\n\\n\\nparam history_messages_key: str | None = None#\\n\\n\\n\\nparam input_messages_key: str | None = None#')]\n"
     ]
    }
   ],
   "source": [
    "retriever = vectorstore.similarity_search(\"What is Runnable with message history what does it do\", k=3)\n",
    "print(retriever)"
   ]
  },
  {
   "cell_type": "code",
   "execution_count": 46,
   "id": "8b3892e2",
   "metadata": {},
   "outputs": [],
   "source": [
    "system_promt = (\n",
    "    \"You are an assistant for Question-answering tasks. Use the following pieces of retrieved data to answer the question. If you don't know the answer, decline politely. and keep the answer concise. {context} any programming and dveelopment related query\"\n",
    ")\n",
    "\n",
    "promt = ChatPromptTemplate.from_messages(\n",
    "    [\n",
    "        (\"system\", system_promt),\n",
    "        (\"human\", \"{input}\")\n",
    "    ]\n",
    ")"
   ]
  },
  {
   "cell_type": "code",
   "execution_count": 47,
   "id": "573dd918",
   "metadata": {},
   "outputs": [
    {
     "name": "stdout",
     "output_type": "stream",
     "text": [
      "input_variables=['context', 'input'] input_types={} partial_variables={} messages=[SystemMessagePromptTemplate(prompt=PromptTemplate(input_variables=['context'], input_types={}, partial_variables={}, template=\"You are an assistant for Question-answering tasks. Use the following pieces of retrieved data to answer the question. If you don't know the answer, decline politely. and keep the answer concise. {context} any programming and dveelopment related query\"), additional_kwargs={}), HumanMessagePromptTemplate(prompt=PromptTemplate(input_variables=['input'], input_types={}, partial_variables={}, template='{input}'), additional_kwargs={})]\n"
     ]
    }
   ],
   "source": [
    "print(promt)"
   ]
  },
  {
   "cell_type": "code",
   "execution_count": 57,
   "id": "43515cc7",
   "metadata": {},
   "outputs": [
    {
     "name": "stdout",
     "output_type": "stream",
     "text": [
      "The cheapest laptop according to the provided data is the Thinkpad L480, which is priced at ₹21,990.\n"
     ]
    }
   ],
   "source": [
    "otp='show me the cheapest laptop accoridng to given data'\n",
    "# retriver = promt.invoke({'context':'Course is 10 days long','input':otp})\n",
    "llm_chain = promt | llm | StrOutputParser()\n",
    "\n",
    "llm_output=llm_chain.invoke({'context':vectorstore.similarity_search(otp, k=5),'input':otp})\n",
    "print(llm_output)"
   ]
  },
  {
   "cell_type": "code",
   "execution_count": null,
   "id": "b2187625",
   "metadata": {},
   "outputs": [],
   "source": []
  },
  {
   "cell_type": "code",
   "execution_count": null,
   "id": "02a3cefb",
   "metadata": {},
   "outputs": [],
   "source": []
  }
 ],
 "metadata": {
  "kernelspec": {
   "display_name": "Python 3",
   "language": "python",
   "name": "python3"
  },
  "language_info": {
   "codemirror_mode": {
    "name": "ipython",
    "version": 3
   },
   "file_extension": ".py",
   "mimetype": "text/x-python",
   "name": "python",
   "nbconvert_exporter": "python",
   "pygments_lexer": "ipython3",
   "version": "3.11.9"
  }
 },
 "nbformat": 4,
 "nbformat_minor": 5
}
